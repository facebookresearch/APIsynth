{
  "metadata": {
    "bento_stylesheets": {
      "bento/extensions/flow/main.css": true,
      "bento/extensions/kernel_selector/main.css": true,
      "bento/extensions/kernel_ui/main.css": true,
      "bento/extensions/new_kernel/main.css": true,
      "bento/extensions/system_usage/main.css": true,
      "bento/extensions/theme/main.css": true
    },
    "kernelspec": {
      "display_name": "pytorch",
      "language": "python",
      "name": "bento_kernel_pytorch",
      "metadata": {
        "kernel_name": "bento_kernel_pytorch",
        "nightly_builds": true,
        "fbpkg_supported": true,
        "is_prebuilt": true
      }
    },
    "language_info": {
      "codemirror_mode": {
        "name": "ipython",
        "version": 3
      },
      "file_extension": ".py",
      "mimetype": "text/x-python",
      "name": "python",
      "nbconvert_exporter": "python",
      "pygments_lexer": "ipython3"
    },
    "last_msg_id": "a4e797ee-9bc5d2d965b124679235fe1c_180",
    "captumWidgetMessage": {},
    "last_server_session_id": "1cecd9e0-9672-4467-9885-9fba64a52fbd",
    "last_kernel_id": "98e87919-13c5-4ed0-b161-2b92d869911f",
    "last_base_url": "https://devvm3095.ftw0.facebook.com:8090/",
    "outputWidgetContext": {}
  },
  "nbformat": 4,
  "nbformat_minor": 2,
  "cells": [
    {
      "cell_type": "code",
      "metadata": {
        "collapsed": false,
        "originalKey": "fd681b84-f2f3-4285-a175-0e6f2a771f21",
        "code_folding": [],
        "hidden_ranges": [],
        "requestMsgId": "a39954d7-bd14-4ed2-8f54-64912bd8c0d5",
        "executionStartTime": 1631156599855,
        "executionStopTime": 1631156609377
      },
      "source": [
        "from __future__ import print_function\n",
        "import time\n",
        "import numpy as np\n",
        "import pandas as pd\n",
        "from sklearn.manifold import TSNE\n",
        "import torch\n",
        "import random"
      ],
      "execution_count": null,
      "outputs": []
    },
    {
      "cell_type": "code",
      "metadata": {
        "originalKey": "d471954b-06b9-40fd-9e29-0cf0408053b2",
        "showInput": true,
        "customInput": null,
        "collapsed": false,
        "requestMsgId": "b0bd6876-886e-413b-b876-bd4bbc2a5afd",
        "executionStartTime": 1631156611387,
        "executionStopTime": 1631156611664
      },
      "source": [
        "import matplotlib.pyplot as plt\n",
        "from mpl_toolkits.mplot3d import Axes3D\n",
        "import seaborn as sns"
      ],
      "execution_count": null,
      "outputs": []
    },
    {
      "cell_type": "code",
      "metadata": {
        "originalKey": "9c2488c8-44ca-465e-9d8a-482430579113",
        "showInput": true,
        "customInput": null,
        "code_folding": [],
        "hidden_ranges": [],
        "collapsed": false,
        "requestMsgId": "a6597a32-5606-40cf-a1bd-5d333f0c8838",
        "executionStartTime": 1631156615692,
        "executionStopTime": 1631156615734
      },
      "source": [
        "EMBEDDING_DATA_NAME = 'Single_100000_synthetic'\n",
        "N = 100000"
      ],
      "execution_count": null,
      "outputs": []
    },
    {
      "cell_type": "markdown",
      "metadata": {
        "originalKey": "65247170-0625-48c8-96ec-19f1a91f0905",
        "showInput": false,
        "customInput": null,
        "code_folding": [],
        "hidden_ranges": []
      },
      "source": [
        "Before-training tSNE"
      ]
    },
    {
      "cell_type": "code",
      "metadata": {
        "originalKey": "ffdd94b2-68a8-417b-a5fa-254636d30c71",
        "showInput": true,
        "customInput": null,
        "collapsed": false,
        "requestMsgId": "73b25d02-56de-45a0-b917-f4c03f990240",
        "code_folding": [],
        "hidden_ranges": [],
        "executionStartTime": 1631156620881,
        "executionStopTime": 1631156621036
      },
      "source": [
        "api2indx, _, _, _, _, X0, Y0 = torch.load(EMBEDDING_DATA_NAME + \".embedding.pt\")"
      ],
      "execution_count": null,
      "outputs": []
    },
    {
      "cell_type": "code",
      "metadata": {
        "originalKey": "470bd8ac-09f7-4780-9b15-428927098641",
        "showInput": true,
        "customInput": null,
        "code_folding": [],
        "hidden_ranges": [],
        "collapsed": false,
        "requestMsgId": "63e80169-ea01-4e39-9824-5b1265c84c39",
        "executionStartTime": 1631156622550,
        "executionStopTime": 1631156622653
      },
      "source": [
        "random.seed(42)\n",
        "rand_idx = random.sample(range(len(Y0)), N)\n",
        "\n",
        "import operator\n",
        "X = operator.itemgetter(*rand_idx)(X0)\n",
        "Y = operator.itemgetter(*rand_idx)(Y0)"
      ],
      "execution_count": null,
      "outputs": []
    },
    {
      "cell_type": "code",
      "metadata": {
        "originalKey": "fc3b4ff5-73b2-4340-af68-899eecf0c9ee",
        "showInput": true,
        "customInput": null,
        "collapsed": false,
        "requestMsgId": "d88379d1-1c74-4f14-a67b-50696c496265",
        "code_folding": [],
        "hidden_ranges": [],
        "executionStartTime": 1631156624698,
        "executionStopTime": 1631156624781
      },
      "source": [
        "x = torch.stack(X)\n",
        "feat_cols = [ 'pixel'+str(i) for i in range(x.shape[1]) ]\n",
        "df = pd.DataFrame(X, columns=feat_cols)\n",
        "df['label'] = Y\n",
        "data = df[feat_cols].values\n",
        "df['y'] = [api2indx[i] for i in Y]"
      ],
      "execution_count": null,
      "outputs": []
    },
    {
      "cell_type": "code",
      "metadata": {
        "originalKey": "5e79ce54-4df0-4e34-b90e-4fb365bed666",
        "showInput": true,
        "customInput": null,
        "code_folding": [],
        "hidden_ranges": [],
        "collapsed": false,
        "requestMsgId": "90196fa6-76a0-4c7c-9ecc-64a4adf1902b",
        "executionStopTime": 1631156626842,
        "executionStartTime": 1631156626028
      },
      "source": [
        "time_start = time.time()\n",
        "tsne = TSNE(n_components=2, verbose=1, perplexity=30, n_iter=300)\n",
        "tsne_results = tsne.fit_transform(data)"
      ],
      "execution_count": null,
      "outputs": []
    },
    {
      "cell_type": "code",
      "metadata": {
        "originalKey": "f01f4f56-7758-4644-bb3e-b03aed0a8900",
        "showInput": true,
        "customInput": null,
        "collapsed": false,
        "requestMsgId": "d12e8289-2470-433c-8186-92310c34dd5b",
        "executionStopTime": 1631156629817,
        "code_folding": [],
        "hidden_ranges": [],
        "executionStartTime": 1631156629725
      },
      "source": [
        "df['tsne-2d-one'] = tsne_results[:,0]\n",
        "df['tsne-2d-two'] = tsne_results[:,1]"
      ],
      "execution_count": null,
      "outputs": []
    },
    {
      "cell_type": "code",
      "metadata": {
        "originalKey": "d83b4e28-5092-4aa3-85b3-ac6c522cc2bc",
        "showInput": true,
        "customInput": null,
        "collapsed": false,
        "requestMsgId": "68d9b84b-1260-4556-b57e-7bb2020c8af7",
        "code_folding": [],
        "hidden_ranges": [],
        "executionStopTime": 1631156632972,
        "executionStartTime": 1631156632024
      },
      "source": [
        "plt.figure(figsize=(16,10))\n",
        "sns.scatterplot(\n",
        "    x=\"tsne-2d-one\", y=\"tsne-2d-two\",\n",
        "    hue=\"label\",\n",
        "    palette=sns.color_palette('hls', n_colors=len(df.y.unique())),\n",
        "    data=df,\n",
        "    legend=\"full\",\n",
        "    alpha=0.3\n",
        ")"
      ],
      "execution_count": null,
      "outputs": []
    },
    {
      "cell_type": "markdown",
      "metadata": {
        "originalKey": "9032ed50-37dc-49e5-acda-0893dc9979b9",
        "showInput": false,
        "customInput": null,
        "code_folding": [],
        "hidden_ranges": []
      },
      "source": [
        "# Figure 1: Visualization of embedding space of input-output pairs"
      ]
    },
    {
      "cell_type": "code",
      "metadata": {
        "originalKey": "d16a6419-0333-4a70-9cec-d1630f354603",
        "showInput": true,
        "customInput": null,
        "collapsed": false,
        "requestMsgId": "d2b3bfdb-dfaf-4a65-b030-a5ab08e9879a",
        "executionStartTime": 1631157013583,
        "executionStopTime": 1631157013674,
        "code_folding": [],
        "hidden_ranges": []
      },
      "source": [
        "test_results0 = torch.load(EMBEDDING_DATA_NAME + \".tSNE.pt\")\n",
        "test_results = operator.itemgetter(*rand_idx)(test_results0)"
      ],
      "execution_count": null,
      "outputs": []
    },
    {
      "cell_type": "code",
      "metadata": {
        "originalKey": "36f63f12-644d-4ab3-a6c6-ea4abc352060",
        "showInput": true,
        "customInput": null,
        "code_folding": [],
        "hidden_ranges": [],
        "collapsed": false,
        "requestMsgId": "1a8a2f47-9680-400e-859b-12626c9aeaba",
        "executionStartTime": 1631157023566,
        "executionStopTime": 1631157023604
      },
      "source": [
        "df0 = pd.DataFrame(test_results, columns =['gt', 'pred', 'z3'])\n",
        "x = torch.stack(list(df0['z3']))\n",
        "feat_cols = [ 'pixel'+str(i) for i in range(x.shape[1]) ]\n",
        "df = pd.DataFrame(x, columns=feat_cols)\n",
        "df['label'] = df0['pred']\n",
        "df['y'] = [api2indx[i] for i in list(df0['pred'])]\n",
        "df['gt'] = df0['gt']\n",
        "data = df[feat_cols].values"
      ],
      "execution_count": null,
      "outputs": []
    },
    {
      "cell_type": "code",
      "metadata": {
        "originalKey": "328a2277-2056-4460-b4b4-14ab32fe29b3",
        "showInput": true,
        "customInput": null,
        "collapsed": false,
        "requestMsgId": "214e48a5-01e2-4e7a-981b-aee6d7d5983c",
        "executionStartTime": 1631157024972,
        "executionStopTime": 1631157025761
      },
      "source": [
        "time_start = time.time()\n",
        "tsne = TSNE(n_components=2, verbose=1, perplexity=30, n_iter=300)\n",
        "tsne_results = tsne.fit_transform(data)"
      ],
      "execution_count": null,
      "outputs": []
    },
    {
      "cell_type": "code",
      "metadata": {
        "originalKey": "23918898-e1cf-4894-aa6e-553e62649031",
        "showInput": true,
        "customInput": null,
        "collapsed": false,
        "requestMsgId": "bacae660-365d-4270-bd42-d76e84c0ecf8",
        "executionStartTime": 1631157028016,
        "executionStopTime": 1631157028107
      },
      "source": [
        "df['tsne-2d-one'] = tsne_results[:,0]\n",
        "df['tsne-2d-two'] = tsne_results[:,1]"
      ],
      "execution_count": null,
      "outputs": []
    },
    {
      "cell_type": "code",
      "metadata": {
        "originalKey": "f512f9d5-783d-48d8-98ff-6ac3753caf5f",
        "showInput": true,
        "customInput": null,
        "collapsed": false,
        "requestMsgId": "bcfe0d54-7889-47aa-ba94-840aa1fa14e4",
        "executionStartTime": 1631157029788,
        "executionStopTime": 1631157030264,
        "code_folding": [],
        "hidden_ranges": []
      },
      "source": [
        "plt.figure(figsize=(16,10))\n",
        "sns.scatterplot(\n",
        "    x=\"tsne-2d-one\", y=\"tsne-2d-two\",\n",
        "    hue=\"label\",\n",
        "    palette=sns.color_palette('hls', n_colors=len(df.y.unique())),\n",
        "    data=df,\n",
        "    legend=\"full\",\n",
        "    alpha=0.3\n",
        ")"
      ],
      "execution_count": null,
      "outputs": []
    }
  ]
}
