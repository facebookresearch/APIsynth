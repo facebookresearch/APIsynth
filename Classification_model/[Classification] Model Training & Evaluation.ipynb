{
  "metadata": {
    "bento_stylesheets": {
      "bento/extensions/flow/main.css": true,
      "bento/extensions/kernel_selector/main.css": true,
      "bento/extensions/kernel_ui/main.css": true,
      "bento/extensions/new_kernel/main.css": true,
      "bento/extensions/system_usage/main.css": true,
      "bento/extensions/theme/main.css": true
    },
    "kernelspec": {
      "display_name": "pytorch",
      "language": "python",
      "name": "bento_kernel_pytorch",
      "metadata": {
        "kernel_name": "bento_kernel_pytorch",
        "nightly_builds": true,
        "fbpkg_supported": true,
        "is_prebuilt": true
      }
    },
    "language_info": {
      "codemirror_mode": {
        "name": "ipython",
        "version": 3
      },
      "file_extension": ".py",
      "mimetype": "text/x-python",
      "name": "python",
      "nbconvert_exporter": "python",
      "pygments_lexer": "ipython3"
    },
    "captumWidgetMessage": {},
    "last_msg_id": "e5d0dc02-8f34767fc54228fd9519d88a_953",
    "last_server_session_id": "3e29e614-eb12-46b7-ba1a-ccf841ee538d",
    "last_kernel_id": "274c267f-0faf-4783-9e7f-111c5a83efe8",
    "last_base_url": "https://devvm3095.ftw0.facebook.com:8090/",
    "outputWidgetContext": {}
  },
  "nbformat": 4,
  "nbformat_minor": 2,
  "cells": [
    {
      "cell_type": "code",
      "metadata": {
        "collapsed": false,
        "originalKey": "29e1e660-3187-4965-a047-63b1294e3775",
        "code_folding": [],
        "hidden_ranges": [],
        "requestMsgId": "57d650bc-fe4f-4153-9761-ea3d265087a4",
        "executionStartTime": 1631154110161,
        "executionStopTime": 1631154110921
      },
      "source": [
        "import random\n",
        "from random import choice\n",
        "import numpy as np\n",
        "import time\n",
        "import torch as T\n",
        "import torch\n",
        "import torch.nn.functional as F\n",
        "device = T.device(\"cpu\") "
      ],
      "execution_count": 1,
      "outputs": []
    },
    {
      "cell_type": "code",
      "metadata": {
        "originalKey": "62598d04-6de8-436d-8390-6b2176317bee",
        "showInput": true,
        "customInput": null,
        "code_folding": [],
        "hidden_ranges": [],
        "collapsed": false,
        "requestMsgId": "36cb0869-4a05-4b3a-99d1-9d9e213ecf81",
        "executionStartTime": 1631154112087,
        "executionStopTime": 1631154112186
      },
      "source": [
        "EMBEDDING_SIZE = 150\n",
        "SHAPE_EMBEDDING_SIZE = 6\n",
        "\n",
        "USE_SHAPE_ENCODING = True\n",
        "USE_TYPE_ENCODING = True\n",
        "USE_VALUE_ENCODING = True\n",
        "\n",
        "EMBEDDING_DATA_NAME = 'Single_100000_synthetic'"
      ],
      "execution_count": 2,
      "outputs": []
    },
    {
      "cell_type": "code",
      "metadata": {
        "originalKey": "17fdc487-f23a-4064-aaf1-7b751228e06c",
        "showInput": true,
        "customInput": null,
        "code_folding": [],
        "hidden_ranges": [],
        "collapsed": false,
        "requestMsgId": "f9971df4-e5eb-40d3-943e-851546a00b19",
        "executionStartTime": 1631154113809,
        "executionStopTime": 1631154113870
      },
      "source": [
        "api2indx, train_set_x0, train_set_y0, valid_set_x0, valid_set_y0, test_set_x0, test_set_y0 = torch.load(EMBEDDING_DATA_NAME + \".embedding.pt\")"
      ],
      "execution_count": 3,
      "outputs": []
    },
    {
      "cell_type": "code",
      "metadata": {
        "originalKey": "22ed4e34-a6e8-47c9-a053-bdb1f32b4ba6",
        "showInput": true,
        "customInput": null,
        "code_folding": [],
        "hidden_ranges": [],
        "collapsed": false,
        "requestMsgId": "ead74e73-3d34-4e06-a1e5-64667b4ced71",
        "executionStartTime": 1631154114872,
        "executionStopTime": 1631154115033
      },
      "source": [
        "# Merge encoddings into a tensor\n",
        "train_set_x = torch.stack(train_set_x0)\n",
        "valid_set_x = torch.stack(valid_set_x0)\n",
        "test_set_x = torch.stack(test_set_x0)"
      ],
      "execution_count": 4,
      "outputs": []
    },
    {
      "cell_type": "code",
      "metadata": {
        "originalKey": "092f52d9-f999-43b9-a753-7e53a91ffbb4",
        "showInput": true,
        "customInput": null,
        "code_folding": [],
        "hidden_ranges": [],
        "collapsed": false,
        "requestMsgId": "cf8a8af2-9bc7-4d95-82ab-97cade1c9a0e",
        "executionStartTime": 1631154116381,
        "executionStopTime": 1631154116477
      },
      "source": [
        "# To reduce RAM usage\n",
        "del train_set_x0\n",
        "del valid_set_x0\n",
        "del test_set_x0"
      ],
      "execution_count": 5,
      "outputs": []
    },
    {
      "cell_type": "code",
      "metadata": {
        "originalKey": "63e4f733-d5f3-4db7-87de-76b3ebe2aac2",
        "showInput": true,
        "customInput": null,
        "collapsed": false,
        "requestMsgId": "31397ceb-bb41-440b-83dd-73350a5ed95f",
        "executionStartTime": 1631154118018,
        "executionStopTime": 1631154118115,
        "code_folding": [],
        "hidden_ranges": []
      },
      "source": [
        "# List of labels (i.e., API function names) into a 1-d tensor of indices\n",
        "updated_api2indx = {}\n",
        "def convert_labels_to_tensor(y):\n",
        "    dict_indx = 0\n",
        "    y1 = []\n",
        "    for api in y:\n",
        "        if api not in updated_api2indx.keys():\n",
        "            updated_api2indx[api] = dict_indx\n",
        "            dict_indx += 1\n",
        "        y1.append(updated_api2indx[api])\n",
        "    \n",
        "    npa = np.asarray(y1)\n",
        "    return(torch.from_numpy(npa).type(torch.LongTensor))"
      ],
      "execution_count": 6,
      "outputs": []
    },
    {
      "cell_type": "code",
      "metadata": {
        "originalKey": "8cd81c6d-f82c-4435-9b2d-704bdcd22d41",
        "showInput": true,
        "customInput": null,
        "code_folding": [],
        "hidden_ranges": [],
        "collapsed": false,
        "requestMsgId": "d1f55d26-c3ea-4032-82e1-e8a118fc2999",
        "executionStartTime": 1631154119700,
        "executionStopTime": 1631154119798
      },
      "source": [
        "train_set_y = convert_labels_to_tensor(train_set_y0)\n",
        "valid_set_y = convert_labels_to_tensor(valid_set_y0)\n",
        "test_set_y = convert_labels_to_tensor(test_set_y0)"
      ],
      "execution_count": 7,
      "outputs": []
    },
    {
      "cell_type": "code",
      "metadata": {
        "originalKey": "09a99942-754e-454d-8aa6-572c8734b147",
        "showInput": true,
        "customInput": null,
        "code_folding": [],
        "hidden_ranges": [],
        "collapsed": false,
        "requestMsgId": "85f33b95-616f-4dcd-9780-a43d529b9892",
        "executionStartTime": 1631154121786,
        "executionStopTime": 1631154121877
      },
      "source": [
        "del train_set_y0\n",
        "del valid_set_y0\n",
        "del test_set_y0"
      ],
      "execution_count": 8,
      "outputs": []
    },
    {
      "cell_type": "code",
      "metadata": {
        "originalKey": "76cc7319-f85a-41f3-a1a8-2c4951106b2e",
        "showInput": true,
        "customInput": null,
        "code_folding": [],
        "hidden_ranges": [],
        "collapsed": false,
        "requestMsgId": "2299eb42-3835-470d-8684-ce14b435a535",
        "executionStartTime": 1631154123172,
        "executionStopTime": 1631154123185
      },
      "source": [
        "# Print the shape of training set - (n * encodding size, n)\n",
        "print(train_set_x.shape, train_set_y.shape)"
      ],
      "execution_count": null,
      "outputs": []
    },
    {
      "cell_type": "code",
      "metadata": {
        "originalKey": "02b648c4-7a7e-44f7-9031-335074f3c9a0",
        "showInput": true,
        "customInput": null,
        "code_folding": [],
        "hidden_ranges": [],
        "collapsed": false,
        "requestMsgId": "291f8317-b4da-4deb-81b8-4f494a285d23",
        "executionStartTime": 1631154125034,
        "executionStopTime": 1631154125043
      },
      "source": [
        "class Net(T.nn.Module):\n",
        "  def __init__(self):\n",
        "    super(Net, self).__init__()\n",
        "    T.manual_seed(0)\n",
        "    T.backends.cudnn.deterministic = True\n",
        "    T.backends.cudnn.benchmark = False\n",
        "    np.random.seed(0)\n",
        "    \n",
        "    first_layer_size = EMBEDDING_SIZE\n",
        "    if USE_SHAPE_ENCODING:\n",
        "      first_layer_size += SHAPE_EMBEDDING_SIZE\n",
        "    if USE_TYPE_ENCODING:\n",
        "      first_layer_size += 2\n",
        "    self.hid1 = T.nn.Linear(4*(first_layer_size+1), 500)\n",
        "    self.hid2 = T.nn.Linear(500, 250)\n",
        "    self.hid3 = T.nn.Linear(250, 100)\n",
        "    self.oupt = T.nn.Linear(100, len(api2indx))\n",
        "\n",
        "    T.nn.init.xavier_uniform_(self.hid1.weight)\n",
        "    T.nn.init.zeros_(self.hid1.bias)\n",
        "    T.nn.init.xavier_uniform_(self.hid2.weight)\n",
        "    T.nn.init.zeros_(self.hid2.bias)\n",
        "    T.nn.init.xavier_uniform_(self.oupt.weight)\n",
        "    T.nn.init.zeros_(self.oupt.bias)\n",
        "\n",
        "    T.nn.Dropout(p=0.2)\n",
        "\n",
        "  def forward(self, x):\n",
        "    z1 = T.tanh(self.hid1(x))\n",
        "    z2 = T.tanh(self.hid2(z1))\n",
        "    z3 = T.tanh(self.hid3(z2))\n",
        "    z = self.oupt(z3)\n",
        "    return (z, z3, z2, z1)"
      ],
      "execution_count": 10,
      "outputs": []
    },
    {
      "cell_type": "code",
      "metadata": {
        "originalKey": "af730b98-0007-4acd-8549-47b283a5bdcc",
        "showInput": true,
        "customInput": null,
        "collapsed": false,
        "requestMsgId": "7eee23af-183a-4b57-b6d1-6b4c0610a8e7",
        "code_folding": [],
        "hidden_ranges": [],
        "executionStartTime": 1631154127374,
        "executionStopTime": 1631154127460
      },
      "source": [
        "def accuracy(model, ds):\n",
        "  # to be run after model.eval()\n",
        "  # granular but slow approach\n",
        "  n_correct = 0; n_wrong = 0\n",
        "  for i in range(len(ds)):\n",
        "    X = ds[i]['predictors'].to(device) # predicted label\n",
        "    Y = ds[i]['targets'].to(device) # ground truth\n",
        "    with T.no_grad():\n",
        "      oupt, z3, z2, z1 = model(X)\n",
        "\n",
        "    prediction = T.argmax(oupt)\n",
        "    if prediction == Y:\n",
        "      n_correct += 1\n",
        "    else:\n",
        "      n_wrong += 1\n",
        "\n",
        "  acc = (n_correct * 1.0) / (n_correct + n_wrong)\n",
        "  return acc"
      ],
      "execution_count": 11,
      "outputs": []
    },
    {
      "cell_type": "code",
      "metadata": {
        "originalKey": "4dedcf61-9cd1-4158-8957-98e2a1d2d235",
        "showInput": true,
        "customInput": null,
        "code_folding": [],
        "hidden_ranges": [],
        "collapsed": false,
        "requestMsgId": "e7b0a5f3-45fe-49a7-b9b0-6fc361da14a2",
        "executionStartTime": 1631154129563,
        "executionStopTime": 1631154129653
      },
      "source": [
        "class FinalEmbedding:\n",
        "    def __init__(self,x,y):\n",
        "        self.x_data = x\n",
        "        self.y_data = y\n",
        "      \n",
        "    def __len__(self):\n",
        "        return len(self.x_data)\n",
        "\n",
        "    def __getitem__(self, idx):\n",
        "        preds = self.x_data[idx]\n",
        "        trgts = self.y_data[idx] \n",
        "        sample = { \n",
        "        'predictors' : preds,\n",
        "        'targets' : trgts\n",
        "        }\n",
        "        return sample"
      ],
      "execution_count": 12,
      "outputs": []
    },
    {
      "cell_type": "code",
      "metadata": {
        "originalKey": "60cb1e2d-2d14-423e-99b0-59a6b7faf7fc",
        "showInput": true,
        "customInput": null,
        "collapsed": false,
        "code_folding": [],
        "hidden_ranges": [],
        "requestMsgId": "6de79106-f148-4a11-9684-42d851b4ac91",
        "executionStartTime": 1631154131448,
        "executionStopTime": 1631154131596
      },
      "source": [
        "# 0. get started\n",
        "print(\"\\nBegin predict  \\n\")\n",
        "np.random.seed(1)\n",
        "T.manual_seed(1)"
      ],
      "execution_count": null,
      "outputs": []
    },
    {
      "cell_type": "code",
      "metadata": {
        "originalKey": "b69a1a27-3bdf-435e-9673-23a3d1ef678a",
        "showInput": true,
        "customInput": null,
        "code_folding": [],
        "hidden_ranges": [],
        "collapsed": false,
        "requestMsgId": "8d1d2c6c-dea3-4c1b-bf5f-f8b498eaa107",
        "executionStartTime": 1631154132764,
        "executionStopTime": 1631154132925
      },
      "source": [
        "# 1. create DataLoader objects\n",
        "print(\"Creating Final Datasets \")\n",
        "\n",
        "bat_size = 128\n",
        "\n",
        "train_ds = FinalEmbedding(train_set_x,train_set_y)\n",
        "test_ds = FinalEmbedding(test_set_x,test_set_y)\n",
        "valid_ds = FinalEmbedding(valid_set_x,valid_set_y)\n",
        "\n",
        "train_ldr = T.utils.data.DataLoader(train_ds,batch_size=bat_size, shuffle=True)"
      ],
      "execution_count": null,
      "outputs": []
    },
    {
      "cell_type": "code",
      "metadata": {
        "originalKey": "97ceeeb1-9f6b-4655-850f-cedc7767f9c9",
        "showInput": true,
        "customInput": null,
        "collapsed": false,
        "code_folding": [],
        "hidden_ranges": [],
        "requestMsgId": "e1c1766b-4270-4e14-9d1b-ec785ce29b53",
        "executionStartTime": 1631154159154,
        "executionStopTime": 1631154159236
      },
      "source": [
        "# 2. create network\n",
        "net = Net().to(device)\n",
        "\n",
        "# 3. train model\n",
        "max_epochs = 50\n",
        "ep_log_interval = 10\n",
        "list_loss = []"
      ],
      "execution_count": 17,
      "outputs": []
    },
    {
      "cell_type": "code",
      "metadata": {
        "originalKey": "24e50c6d-6287-4964-b35b-001f5b80fea0",
        "showInput": true,
        "customInput": null,
        "collapsed": false,
        "code_folding": [],
        "hidden_ranges": [],
        "requestMsgId": "dd38c7a5-ef31-49a6-be7f-5c49bbff7b96",
        "executionStartTime": 1631154161277,
        "executionStopTime": 1631154172907
      },
      "source": [
        "import torch.nn as nn\n",
        "\n",
        "lrn_rate = 0.001\n",
        "loss_func = T.nn.CrossEntropyLoss()  # apply log-softmax()\n",
        "optimizer = T.optim.SGD(net.parameters(), lr=lrn_rate)\n",
        "\n",
        "print(\"\\nbat_size = %3d \" % bat_size)\n",
        "print(\"loss = \" + str(loss_func))\n",
        "print(\"optimizer = SGD\")\n",
        "print(\"max_epochs = %3d \" % max_epochs)\n",
        "print(\"lrn_rate = %0.3f \" % lrn_rate)\n",
        "\n",
        "print(\"\\nStarting train with saved checkpoints\")\n",
        "net.train()\n",
        "for epoch in range(0, max_epochs+1):\n",
        "  T.manual_seed(1 + epoch)  # recovery reproducibility\n",
        "  epoch_loss = 0  # for one full epoch\n",
        "  for (batch_idx, batch) in enumerate(train_ldr):\n",
        "    X = batch['predictors']  # inputs\n",
        "    Y = batch['targets']     # shape [10,3] (!)\n",
        "\n",
        "    optimizer.zero_grad()\n",
        "    oupt, z3, z2, z1 = net(X.to(device))\n",
        "\n",
        "    loss_val = loss_func(oupt, Y.to(device))  # avg loss in batch\n",
        "    epoch_loss += loss_val.item()  # sum of averages\n",
        "    loss_val.backward()\n",
        "    optimizer.step()\n",
        "    list_loss.append(loss_val.item())\n",
        "\n",
        "  if epoch % ep_log_interval == 0:\n",
        "      net.eval()\n",
        "      acc_valid = accuracy(net, valid_ds)  # item-by-item\n",
        "      print(\"epoch = %4d   loss = %0.4f valid_data accuracy = %0.4f\" % \\\n",
        "      (epoch, epoch_loss, acc_valid))      "
      ],
      "execution_count": 18,
      "outputs": [
        {
          "output_type": "stream",
          "name": "stdout",
          "text": [
            "\nbat_size = 128 \nloss = CrossEntropyLoss()\noptimizer = SGD\nmax_epochs =  50 \nlrn_rate = 0.001 \n\nStarting train with saved checkpoints\n"
          ]
        },
        {
          "output_type": "stream",
          "name": "stdout",
          "text": [
            "epoch =    0   loss = 85.6776 valid_data accuracy = 0.0303\n"
          ]
        },
        {
          "output_type": "stream",
          "name": "stdout",
          "text": [
            "epoch =   10   loss = 78.9780 valid_data accuracy = 0.0545\n"
          ]
        },
        {
          "output_type": "stream",
          "name": "stdout",
          "text": [
            "epoch =   20   loss = 73.7288 valid_data accuracy = 0.2242\n"
          ]
        },
        {
          "output_type": "stream",
          "name": "stdout",
          "text": [
            "epoch =   30   loss = 69.2402 valid_data accuracy = 0.2788\n"
          ]
        },
        {
          "output_type": "stream",
          "name": "stdout",
          "text": [
            "epoch =   40   loss = 65.2908 valid_data accuracy = 0.3333\n"
          ]
        },
        {
          "output_type": "stream",
          "name": "stdout",
          "text": [
            "epoch =   50   loss = 61.9270 valid_data accuracy = 0.3394\n"
          ]
        }
      ]
    },
    {
      "cell_type": "code",
      "metadata": {
        "originalKey": "16e269b2-80d2-489b-883f-2ead0d46fd90",
        "showInput": true,
        "customInput": null,
        "collapsed": false,
        "requestMsgId": "5192dcc8-9e47-4958-8589-0507b9f6d7fc",
        "executionStartTime": 1631154183088,
        "executionStopTime": 1631154183179
      },
      "source": [
        "from manifold.clients.python import ManifoldClient\n",
        "from datetime import timedelta\n",
        "import logging\n",
        "import pandas as pd\n",
        "from io import BytesIO"
      ],
      "execution_count": 19,
      "outputs": []
    },
    {
      "cell_type": "code",
      "metadata": {
        "originalKey": "0f048420-452e-415e-8445-08646a42c597",
        "showInput": true,
        "customInput": null,
        "code_folding": [],
        "hidden_ranges": [],
        "collapsed": false,
        "requestMsgId": "26fa2400-180c-4981-8ac0-7c0204ed3458",
        "executionStartTime": 1631154185290,
        "executionStopTime": 1631154185297
      },
      "source": [
        "torch.save(net.state_dict(), EMBEDDING_DATA_NAME + '_model.pt')"
      ],
      "execution_count": 20,
      "outputs": []
    },
    {
      "cell_type": "code",
      "metadata": {
        "originalKey": "00c8db6f-643c-40db-baae-9be3e943f6e0",
        "showInput": true,
        "customInput": null,
        "code_folding": [],
        "hidden_ranges": [],
        "collapsed": false,
        "requestMsgId": "6050a5fb-b484-4b23-9c70-ed59fb0f8bd9",
        "executionStartTime": 1631154186581,
        "executionStopTime": 1631154186684
      },
      "source": [
        "torch.save(updated_api2indx, EMBEDDING_DATA_NAME + '_api2indx.pt')"
      ],
      "execution_count": 23,
      "outputs": []
    },
    {
      "cell_type": "code",
      "metadata": {
        "originalKey": "ff203a47-3df5-4c40-b7f1-e7d4e6c6cbd2",
        "showInput": true,
        "customInput": null,
        "collapsed": false,
        "requestMsgId": "960199d6-130a-4ed6-8b66-86aef8780935",
        "executionStartTime": 1631154199993,
        "executionStopTime": 1631154200155,
        "code_folding": [],
        "hidden_ranges": []
      },
      "source": [
        "# Run this cell if you need to load saved state_dict\n",
        "api2indx = torch.load(EMBEDDING_DATA_NAME + \"_api2indx.pt\")\n",
        "net = Net().to(device)\n",
        "checkpoint = torch.load(EMBEDDING_DATA_NAME + \"_model.pt\")\n",
        "net.load_state_dict(checkpoint)\n",
        "net.eval()"
      ],
      "execution_count": null,
      "outputs": []
    },
    {
      "cell_type": "code",
      "metadata": {
        "originalKey": "ac73806b-c9a2-4bfe-8cd0-11c7222c8e7a",
        "showInput": true,
        "customInput": null,
        "collapsed": false,
        "code_folding": [],
        "hidden_ranges": [],
        "requestMsgId": "75d81d1e-51d6-48dc-bb91-100372aaa4bc",
        "executionStartTime": 1631154203560,
        "executionStopTime": 1631154204954
      },
      "source": [
        "# 4. evaluate model accuracy\n",
        "print(\"\\nComputing model accuracy\")\n",
        "net.eval()\n",
        "acc_train = accuracy(net, train_ds)  # item-by-item\n",
        "print(\"Accuracy on training data = %0.4f\" % acc_train)\n",
        "acc_valid = accuracy(net, valid_ds)  # item-by-item\n",
        "print(\"Accuracy on validation data = %0.4f\" % acc_valid)\n",
        "acc_test = accuracy(net, test_ds)  # en masse\n",
        "print(\"Accuracy on test data = %0.4f\" % acc_test)"
      ],
      "execution_count": null,
      "outputs": []
    },
    {
      "cell_type": "code",
      "metadata": {
        "originalKey": "85a3a0ce-7589-462d-a0b9-14c5d4891bea",
        "showInput": true,
        "customInput": null,
        "code_folding": [],
        "hidden_ranges": [],
        "collapsed": false,
        "requestMsgId": "fcb0d421-1cae-4bd0-b57a-461bd066532e",
        "executionStopTime": 1631154748886,
        "executionStartTime": 1631154748713
      },
      "source": [
        "def accuracy_by_api(model, ds):\n",
        "  ground_truth = {}\n",
        "  correct = {}\n",
        "  wrong = {}\n",
        "  error_pair = {}\n",
        "\n",
        "  global api2indx\n",
        "\n",
        "  ground_truth = dict.fromkeys(api2indx, 0)\n",
        "  correct = dict.fromkeys(api2indx, 0)\n",
        "  wrong = dict.fromkeys(api2indx, 0)  \n",
        "  \n",
        "  n_correct = 0; n_wrong = 0\n",
        "\n",
        "  for i in range(len(ds)):\n",
        "    X = ds[i]['predictors'].to(device)\n",
        "    Y = ds[i]['targets'].to(device) \n",
        "    ground_truth_api = list(api2indx.keys())[list(api2indx.values()).index(Y.item())]\n",
        "    ground_truth[ground_truth_api] += 1\n",
        "\n",
        "    with T.no_grad():\n",
        "      oupt, z3, z2, z1  = model(X)  # logits form\n",
        "\n",
        "    prediction = T.argmax(oupt) \n",
        "    prediction_item = prediction.item()\n",
        "    prediction_api = list(api2indx.keys())[list(api2indx.values()).index(prediction_item)]\n",
        "\n",
        "    if prediction == Y:\n",
        "      n_correct += 1\n",
        "      correct[prediction_api] += 1\n",
        "    else:\n",
        "      n_wrong += 1\n",
        "      wrong[ground_truth_api] += 1\n",
        "      ep = (ground_truth_api , prediction_api)\n",
        "      if error_pair.get(ep, -1) == -1:\n",
        "          error_pair[ep] = 0\n",
        "      error_pair[ep] += 1\n",
        "\n",
        "\n",
        "  error_per_api = dict.fromkeys(api2indx, 0)\n",
        "  for key, correct_val in correct.items():\n",
        "\n",
        "      gt = ground_truth[key]\n",
        "      wrong_val = wrong[key]\n",
        "      pcntg = 0\n",
        "      total = wrong_val + correct_val\n",
        "\n",
        "      if total != 0:\n",
        "        pcntg = correct_val/total\n",
        "      \n",
        "      assert(gt == total)\n",
        "\n",
        "      error_per_api[key] = (correct_val,wrong_val, 1-pcntg)\n",
        "      print(\"{:18s}: correct_val = {:5d}, wrong_val = {:5d}, percentage = {:.2f}, total = {:6d}\".format(key, correct_val, wrong_val, pcntg, total))\n",
        "  \n",
        "  \n",
        "  acc = (n_correct * 1.0) / (n_correct + n_wrong)\n",
        "  print(\"accuracy: %0.4f\" % acc)\n",
        "  return (error_per_api, error_pair)\n",
        "\n",
        "error_per_api, err_dict = accuracy_by_api(net, test_ds)"
      ],
      "execution_count": null,
      "outputs": []
    },
    {
      "cell_type": "markdown",
      "metadata": {
        "originalKey": "b59a51c9-dcc9-41a0-998e-a1d2149f649e",
        "showInput": false,
        "customInput": null
      },
      "source": [
        "# Figure 6 - Confusing Pairs from Classification Model"
      ]
    },
    {
      "cell_type": "code",
      "metadata": {
        "originalKey": "d0538629-0a33-436d-9ae7-e3deba845247",
        "showInput": true,
        "customInput": null,
        "code_folding": [],
        "hidden_ranges": [],
        "collapsed": false,
        "requestMsgId": "45669448-a733-4b52-8b03-acb2d6d8a4fa",
        "executionStartTime": 1631155220298,
        "executionStopTime": 1631155220403
      },
      "source": [
        "# print confusing pairs\n",
        "sorted_err_dict = {k: v for k, v in sorted(err_dict.items(), reverse=True, key=lambda item: item[1])}\n",
        "print(\"\\n\".join([\"{}\\t{}\".format(k, v) for k, v in sorted_err_dict.items()]))"
      ],
      "execution_count": null,
      "outputs": []
    },
    {
      "cell_type": "code",
      "metadata": {
        "originalKey": "28616b06-2d8d-421d-b28d-b7be01324d66",
        "showInput": true,
        "customInput": null,
        "code_folding": [],
        "hidden_ranges": [],
        "collapsed": false,
        "requestMsgId": "d982c847-0776-4be6-ae65-87b0ab194b88",
        "executionStartTime": 1631155527259,
        "executionStopTime": 1631155527937
      },
      "source": [
        "import matplotlib.pyplot as plt\n",
        "\n",
        "pairs = list([\"_\".join(k) for k in sorted_err_dict.keys()])\n",
        "num = list(sorted_err_dict.values())\n",
        "  \n",
        "fig = plt.figure(figsize = (10, 5))\n",
        " \n",
        "# creating the bar plot\n",
        "plt.bar(pairs, num, color ='red', width = 0.6)\n",
        " \n",
        "plt.xlabel(\"Confused Pairs\")\n",
        "plt.xticks(rotation = 90, fontsize=15)\n",
        "plt.ylabel(\"Number\")\n",
        "plt.xlim([0, 40])\n",
        "plt.title(\"Number of Confused Pairs\")\n",
        "plt.show()"
      ],
      "execution_count": null,
      "outputs": []
    },
    {
      "cell_type": "code",
      "metadata": {
        "originalKey": "beea727e-e3ae-47ba-be75-f976b419744a",
        "showInput": true,
        "customInput": null,
        "code_folding": [],
        "hidden_ranges": [],
        "collapsed": false,
        "requestMsgId": "760fac2e-b9ea-473a-a39d-7020d56f4124",
        "executionStartTime": 1631156991515,
        "executionStopTime": 1631156991651
      },
      "source": [
        "# Store embeddings (z3) of each input-output in the test dataset\n",
        "def store_embeddings_for_tsne(model, ds):\n",
        "  global api2indx\n",
        "  model_result = []\n",
        "\n",
        "  for i in range(len(ds)):\n",
        "    X = ds[i]['predictors'].to(device)\n",
        "    Y = ds[i]['targets'].to(device) \n",
        "    ground_truth_api = list(api2indx.keys())[list(api2indx.values()).index(Y.item())]\n",
        "\n",
        "    with T.no_grad():\n",
        "      oupt, z3, z2, z1 = model(X)  # logits form\n",
        "      \n",
        "    prediction_idx = T.argmax(oupt) \n",
        "    prediction_idx_item = prediction_idx.item()\n",
        "    prediction_idx_api = list(api2indx.keys())[list(api2indx.values()).index(prediction_idx_item)]\n",
        "    \n",
        "    model_result.append((ground_truth_api, prediction_idx_api, z3.cpu()))\n",
        "\n",
        "  return(model_result)\n",
        "\n",
        "model_result = store_embeddings_for_tsne(net, test_ds)\n",
        "torch.save(model_result, EMBEDDING_DATA_NAME + '.tSNE.pt')"
      ],
      "execution_count": 75,
      "outputs": []
    }
  ]
}
