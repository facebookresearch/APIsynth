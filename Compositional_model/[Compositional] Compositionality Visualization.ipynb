{
  "metadata": {
    "anp_cloned_from": {
      "revision_id": "542934380305622"
    },
    "bento_stylesheets": {
      "bento/extensions/flow/main.css": true,
      "bento/extensions/kernel_selector/main.css": true,
      "bento/extensions/kernel_ui/main.css": true,
      "bento/extensions/new_kernel/main.css": true,
      "bento/extensions/system_usage/main.css": true,
      "bento/extensions/theme/main.css": true
    },
    "captumWidgetMessage": {},
    "disseminate_notebook_id": {
      "notebook_id": "4248899338560495"
    },
    "disseminate_notebook_info": {
      "bento_version": "20210822-210333",
      "description": "",
      "hide_code": false,
      "hipster_group": "",
      "kernel_build_info": {
        "deps": [
          "//caffe2/caffe2/fb/ifbpy:all_pytorch_and_caffe2_deps",
          "//github/third-party/PyTorchLightning/pytorch-lightning:lib"
        ],
        "external_deps": []
      },
      "no_uii": true,
      "notebook_number": "1109871",
      "others_can_edit": false,
      "reviewers": "",
      "revision_id": "608940000512360",
      "tags": "",
      "tasks": "",
      "title": "[sonia] ProvingSemanticEquivalence_v3"
    },
    "kernelspec": {
      "name": "bento_kernel_pytorch",
      "display_name": "pytorch",
      "language": "python",
      "metadata": {
        "kernel_name": "bento_kernel_pytorch",
        "nightly_builds": true,
        "fbpkg_supported": true,
        "is_prebuilt": true
      }
    },
    "language_info": {
      "name": "python",
      "version": "3.8.6",
      "mimetype": "text/x-python",
      "codemirror_mode": {
        "name": "ipython",
        "version": 3
      },
      "pygments_lexer": "ipython3",
      "nbconvert_exporter": "python",
      "file_extension": ".py"
    },
    "last_base_url": "https://devvm3095.ftw0.facebook.com:8090/",
    "last_kernel_id": "8a80adb7-a964-48a3-bc06-5d7e43aae887",
    "last_msg_id": "f86320b2-5addf138cd430d3f119baed3_673",
    "last_server_session_id": "f9d9ce64-c79d-4e01-aa88-7d6de3975555",
    "outputWidgetContext": {}
  },
  "nbformat": 4,
  "nbformat_minor": 2,
  "cells": [
    {
      "cell_type": "code",
      "metadata": {
        "code_folding": [],
        "executionStartTime": 1630207282778,
        "executionStopTime": 1630207283330,
        "hidden_ranges": [],
        "originalKey": "b0497e0f-73f1-4c25-8924-60696034536a",
        "requestMsgId": "7f7c453c-53ae-4960-b4ba-fcf3e1057ec0",
        "trusted": true
      },
      "source": [
        "import random\n",
        "from random import choice\n",
        "import numpy as np\n",
        "import time\n",
        "import torch\n",
        "import torch as T\n",
        "import torch.nn as nn\n",
        "import itertools\n",
        "import sklearn.datasets\n",
        "import torch.nn.functional as F\n",
        "from tqdm.notebook import tqdm\n",
        "from collections import defaultdict, Counter\n",
        "from sklearn.manifold import TSNE\n",
        "import pandas as pd\n",
        "import matplotlib.pyplot as plt\n",
        "import seaborn as sns"
      ],
      "execution_count": null,
      "outputs": []
    },
    {
      "cell_type": "code",
      "metadata": {
        "trusted": true,
        "originalKey": "1b96665f-0d3d-4a76-81b0-4246ed30292b"
      },
      "source": [
        "EMBEDDING_NOISE_LEVEL = 0\n",
        "EMBEDDING_SIZE = 150\n",
        "SHAPE_EMBEDDING_SIZE = 6\n",
        "device = T.device(\"cuda\") "
      ],
      "execution_count": null,
      "outputs": []
    },
    {
      "cell_type": "code",
      "metadata": {
        "code_folding": [],
        "customInput": null,
        "executionStartTime": 1630207297727,
        "executionStopTime": 1630207297763,
        "hidden_ranges": [],
        "originalKey": "af68fa35-f86a-4c14-a177-05e12532caf1",
        "requestMsgId": "6ea8a6f2-66c0-47e6-803e-6f61e86baa49",
        "showInput": true,
        "trusted": true
      },
      "source": [
        "def add_noise(orig_tensor):\n",
        "    orig_tensor = orig_tensor.double()\n",
        "    data = torch.flatten(orig_tensor)\n",
        "    N =  int(orig_tensor.nelement() * EMBEDDING_NOISE_LEVEL)\n",
        "    mask = [True] * N + [False] * (orig_tensor.nelement() - N )\n",
        "    np.random.shuffle(mask)\n",
        "    data[mask] = 0\n",
        "    return(data)\n",
        "\n",
        "def encode_values_to_code(tensor):\n",
        "    tensor = tensor.clone()\n",
        "    tensor[(tensor>=100) & (tensor<1000)] = 100\n",
        "    tensor[(tensor>=1000)] = 101\n",
        "    tensor[(tensor<=-20) & (tensor>-100)] = -20\n",
        "    tensor[(tensor<=-100) & (tensor>-1000)] = -21\n",
        "    tensor[(tensor<=-1000)] = -22\n",
        "    return tensor\n",
        "\n",
        "def tensor_flatten_pad(tensor, embed_size=EMBEDDING_SIZE, shape_embed_size=SHAPE_EMBEDDING_SIZE, isNoise=False):\n",
        "    t_flatten = torch.flatten(tensor)\n",
        "    if isNoise is True:\n",
        "        t_flatten = add_noise(t_flatten)\n",
        "    padding_length = embed_size - t_flatten.shape[-1]\n",
        "    p1d = (0, padding_length) #just padding the last dimension\n",
        "    t_pad = F.pad(t_flatten, p1d).float()\n",
        "    \n",
        "    type_padding = 0\n",
        "    if tensor.dtype == torch.bool:\n",
        "        type_padding = 1\n",
        "    elif tensor.dtype in {torch.float64, torch.double, torch.float32, torch.float16}:\n",
        "        type_padding = 2\n",
        "    \n",
        "    '''size embedding'''\n",
        "    if(shape_embed_size > 0):\n",
        "        t_shape = list(tensor.shape)\n",
        "        padding_length = shape_embed_size - 1 - len(t_shape)\n",
        "        p1d = (0, padding_length) #just padding the last dimension\n",
        "        s_pad = F.pad(torch.Tensor(t_shape), p1d).float()\n",
        "    \n",
        "        t_pad_list = t_pad.tolist()\n",
        "        s_pad_list = s_pad.tolist()\n",
        "        tensor_embedding = torch.Tensor([type_padding] + [-1] + t_pad_list + [-1] + s_pad_list + [-1])\n",
        "\n",
        "    else:\n",
        "        t_pad_list = t_pad.tolist()\n",
        "        tensor_embedding = torch.Tensor([type_padding] + [-1] + t_pad_list + [-1])\n",
        "        \n",
        "    encoded_tensor = encode_values_to_code(tensor_embedding)\n",
        "    return(encoded_tensor)"
      ],
      "execution_count": null,
      "outputs": []
    },
    {
      "cell_type": "code",
      "metadata": {
        "code_folding": [],
        "customInput": null,
        "executionStartTime": 1630207301974,
        "executionStopTime": 1630207302018,
        "hidden_ranges": [],
        "originalKey": "d686f064-3029-4936-9a38-91177349efc4",
        "requestMsgId": "537f0871-e1d5-4b28-97eb-2b1396b244f8",
        "showInput": true,
        "trusted": true
      },
      "source": [
        "def split_dataset(orig_dataset, train_frac=0.9):\n",
        "    dataset = orig_dataset.copy()\n",
        "    train_length = int(len(dataset) * train_frac)\n",
        "    valid_length = train_length + int((len(dataset) - train_length) / 2)\n",
        "    random.shuffle(dataset)\n",
        "    train_set = dataset[:train_length]\n",
        "    valid_set = dataset[train_length: valid_length]\n",
        "    test_set = dataset[valid_length:]\n",
        "    print(len(train_set), len(valid_set), len(test_set))\n",
        "    return(train_set, valid_set, test_set)\n",
        "\n",
        "def sample_dataset(orig_dataset, frac=0.9):\n",
        "    if frac > 1:\n",
        "        frac_length = frac\n",
        "    else:\n",
        "        frac_length = int(len(orig_dataset) * frac)\n",
        "    idx = random.sample(range(len(orig_dataset)), frac_length)\n",
        "    return [orig_dataset[i] for i in idx]"
      ],
      "execution_count": null,
      "outputs": []
    },
    {
      "cell_type": "code",
      "metadata": {
        "code_folding": [],
        "customInput": null,
        "executionStartTime": 1630207335226,
        "executionStopTime": 1630207335253,
        "hidden_ranges": [],
        "originalKey": "d0b634f3-bafd-420f-887a-4971d71b3fa4",
        "requestMsgId": "9f15deac-4afe-4a7a-b92a-c471c9eabf2e",
        "showInput": true,
        "trusted": true
      },
      "source": [
        "def get_empty_t():\n",
        "    empty_t = torch.zeros(EMBEDDING_SIZE + SHAPE_EMBEDDING_SIZE + 1 + 2)\n",
        "    empty_t[-1] = -1\n",
        "    return empty_t\n",
        "\n",
        "def load_test_data(dataset):\n",
        "    X, X_alt, y =[], [], []\n",
        "    empty_t = get_empty_t()\n",
        "    \n",
        "    for data_list in dataset:\n",
        "        if data_list[-1] == -1:\n",
        "            continue\n",
        "        final_output = data_list[-1][1]\n",
        "        ot_pad = tensor_flatten_pad(final_output, isNoise=True)\n",
        "        prev_out = torch.Tensor().long()\n",
        "        api_seq_x = []\n",
        "        api_seq_x_alt = []\n",
        "        api_seq_y = []    \n",
        "        \n",
        "        for api, output, input_list in data_list:\n",
        "#             if data == -1:\n",
        "#                 continue  \n",
        "            if api not in api2indx:\n",
        "                api2indx[api] = len(api2indx)\n",
        "\n",
        "            it_pad = []\n",
        "            it_pad_alt = []\n",
        "            for input_tensor in input_list:\n",
        "                if input_tensor.shape == prev_out.shape and torch.all(input_tensor.eq(prev_out)).item():\n",
        "                    it_pad.append(empty_t)\n",
        "                else:\n",
        "                    it_pad.append(tensor_flatten_pad(input_tensor,isNoise=True))\n",
        "                it_pad_alt.append(tensor_flatten_pad(input_tensor,isNoise=True))\n",
        "                \n",
        "            \n",
        "            # adding addidional tensors with zero embeddings for < 2 tensors\n",
        "            for i in range(len(it_pad), 3):\n",
        "                it_pad.append(empty_t)\n",
        "                it_pad_alt.append(empty_t)\n",
        "            \n",
        "            x = T.flatten(T.stack((it_pad[0],it_pad[1], it_pad[2], ot_pad)))      \n",
        "            x_alt = T.flatten(T.stack((it_pad_alt[0],it_pad_alt[1], it_pad_alt[2], ot_pad)))      \n",
        "            api_seq_x.append(x) \n",
        "            api_seq_x_alt.append(x_alt) \n",
        "            api_seq_y.append(api2indx[api])\n",
        "            prev_out = output\n",
        "\n",
        "        X.append(api_seq_x)\n",
        "        X_alt.append(api_seq_x_alt)\n",
        "        y.append(api_seq_y)\n",
        "    return(X, X_alt, y)"
      ],
      "execution_count": null,
      "outputs": []
    },
    {
      "cell_type": "code",
      "metadata": {
        "code_folding": [],
        "customInput": null,
        "executionStartTime": 1630207606156,
        "executionStopTime": 1630207606306,
        "hidden_ranges": [],
        "originalKey": "5da72aff-f68e-43b1-9c88-0ac98587a62f",
        "requestMsgId": "aaf47402-b244-4b3c-ac89-0a83ff86ad5c",
        "showInput": true,
        "trusted": true
      },
      "source": [
        "class FinalEmbedding:\n",
        "    def __init__(self, x, y):\n",
        "        self.x_data = x\n",
        "        self.y_data = y\n",
        "      \n",
        "    def __len__(self):\n",
        "        return len(self.x_data)\n",
        "\n",
        "    def __getitem__(self, idx):\n",
        "        preds = self.x_data[idx]\n",
        "        trgts = self.y_data[idx] \n",
        "        sample = { \n",
        "            'predictors' : preds,\n",
        "            'targets' : trgts\n",
        "        }\n",
        "        return sample\n",
        "    \n",
        "class RNNModel(nn.Module):\n",
        "    def __init__(self, input_size, output_size, hidden_dim, n_layers):\n",
        "        super(RNNModel, self).__init__()\n",
        "\n",
        "        # Defining some parameters\n",
        "        self.hidden_dim = hidden_dim\n",
        "        self.n_layers = n_layers\n",
        "\n",
        "        #Defining the layers\n",
        "        # RNN Layer\n",
        "        self.rnn = nn.RNN(input_size, hidden_dim, n_layers, batch_first=True, bidirectional=True)   \n",
        "        \n",
        "        # Fully connected layer\n",
        "        self.fc = nn.Linear(hidden_dim*2, output_size)\n",
        "    \n",
        "    def forward(self, x):\n",
        "\n",
        "        batch_size = x.size(0)\n",
        "\n",
        "        #Initializing hidden state for first input using method defined below\n",
        "        hidden = self.init_hidden(batch_size)\n",
        "        \n",
        "        # Passing in the input and hidden state into the model and obtaining outputs\n",
        "        out, hidden = self.rnn(x, hidden)\n",
        "        \n",
        "        # Reshaping the outputs such that it can be fit into the fully connected layer\n",
        "        out1 = out.contiguous().view(-1, self.hidden_dim*2)\n",
        "        out1 = self.fc(out1)\n",
        "        \n",
        "        return out1, hidden, out\n",
        "    \n",
        "    def init_hidden(self, batch_size):\n",
        "        # This method generates the first hidden state of zeros which we'll use in the forward pass\n",
        "        hidden = torch.zeros(self.n_layers*2, batch_size, self.hidden_dim).to(device)\n",
        "         # We'll send the tensor holding the hidden state to the device we specified earlier as well\n",
        "        return hidden\n",
        "    \n",
        "class FFNet(T.nn.Module):\n",
        "    def __init__(self):\n",
        "        super(FFNet, self).__init__()\n",
        "\n",
        "        self.hid1 = T.nn.Linear(4*(f.EMBEDDING_SIZE+f.SHAPE_EMBEDDING_SIZE+1+2), 500)\n",
        "        self.hid2 = T.nn.Linear(500, 250)\n",
        "        self.hid3 = T.nn.Linear(250, 100)\n",
        "        self.oupt = T.nn.Linear(100, len(api2indx))\n",
        "\n",
        "        T.nn.init.xavier_uniform_(self.hid1.weight)\n",
        "        T.nn.init.zeros_(self.hid1.bias)\n",
        "        T.nn.init.xavier_uniform_(self.hid2.weight)\n",
        "        T.nn.init.zeros_(self.hid2.bias)\n",
        "        T.nn.init.xavier_uniform_(self.oupt.weight)\n",
        "        T.nn.init.zeros_(self.oupt.bias)\n",
        "\n",
        "        T.nn.Dropout(p=0.2)\n",
        "\n",
        "    def forward(self, x):\n",
        "        z1 = T.tanh(self.hid1(x))\n",
        "        z2 = T.tanh(self.hid2(z1))\n",
        "        z3 = T.tanh(self.hid3(z2))\n",
        "        z = self.oupt(z3)  # no softmax: CrossEntropyLoss() \n",
        "        return (z, z3, z2, z1)"
      ],
      "execution_count": null,
      "outputs": []
    },
    {
      "cell_type": "code",
      "metadata": {
        "customInput": null,
        "executionStartTime": 1630207612404,
        "executionStopTime": 1630207612548,
        "originalKey": "c0c64cbe-b32c-4dab-a42b-4e94c1f1fedf",
        "requestMsgId": "c14ddd32-22c8-43d9-aab2-6011f165798f",
        "showInput": true,
        "trusted": true
      },
      "source": [
        "def process_dataX(tensor_list):\n",
        "    empty_t = torch.zeros_like(tensor_list[0])\n",
        "    a = [empty_t for _ in range(3 - len(tensor_list))]\n",
        "    io_seq = tensor_list + [empty_t for _ in range(3 - len(tensor_list))]\n",
        "    return torch.stack(io_seq).unsqueeze(0)\n",
        "\n",
        "def process_dataY(api_seq):\n",
        "    eos = api2indx[EOS]\n",
        "    api_tensors = torch.tensor(api_seq + [eos] * (3 - len(api_seq)))\n",
        "    return api_tensors.unsqueeze(0)\n",
        "\n",
        "def embed_tensor_for_model(domain_io):\n",
        "    x, y = embed_tensors(domain_io)\n",
        "    X = process_dataX(x[0])\n",
        "    Y = process_dataY(y[0])\n",
        "    return(X,Y)\n",
        "\n",
        "def query_model(X, Y):\n",
        "    X = process_dataX(X).to(device)\n",
        "    Y = process_dataY(Y).to(device)\n",
        "    with torch.no_grad():\n",
        "        predicts, z3, z2, z1 = net(X)\n",
        "        model_output, hidden, int_output = rnn_model(z3)\n",
        "\n",
        "    target_list = Y.cpu().tolist()\n",
        "    top_indx = torch.argmax(model_output, dim=-1).tolist()\n",
        "    return int_output.squeeze(), top_indx\n",
        "\n",
        "def api_edit_distance(seq1, seq2):\n",
        "    edit_distance = 0\n",
        "    for a, b in zip(seq1, seq2):\n",
        "        edit_distance += 1\n",
        "    return edit_distance"
      ],
      "execution_count": null,
      "outputs": []
    },
    {
      "cell_type": "markdown",
      "metadata": {
        "originalKey": "5c11f8dd-73ba-44cd-8726-0d1f0d41852b"
      },
      "source": [
        "### Get Data"
      ]
    },
    {
      "cell_type": "code",
      "metadata": {
        "trusted": true,
        "originalKey": "e83b1db0-05d6-4fe9-99ab-d0262f5b8c7e"
      },
      "source": [
        "# api2indx\n",
        "EOS = '<eol>'\n",
        "api2indx = torch.load('/home/skim131/local/input_output/api2indx.pt')\n",
        "indx2api = {i:api for api, i in api2indx.items()}\n",
        "print(f'Loaded {api2indx} apis!')\n",
        "\n",
        "# model\n",
        "net = torch.load('/home/skim131/local/input_output/2_train_net_model.pt')\n",
        "rnn_model = torch.load('/home/skim131/local/input_output/2_train_rnn_model.pt')\n",
        "print('Loaded model!')\n",
        "\n",
        "# dataset\n",
        "dataset = torch.load('/home/skim131/local/input_output/100000_Composite_100001_integer.pt')\n",
        "\n",
        "sample = sample_dataset(dataset, 20000)\n",
        "X_data, X_alt_data, y_data = load_test_data(sample)\n",
        "print(f'Loaded {len(sample)} sample datapoints!')"
      ],
      "execution_count": null,
      "outputs": []
    },
    {
      "cell_type": "code",
      "metadata": {
        "code_folding": [],
        "customInput": null,
        "executionStartTime": 1630208671268,
        "executionStopTime": 1630208674094,
        "hidden_ranges": [],
        "originalKey": "212f2fe5-b53c-45c9-a84b-f8921fa7f1f6",
        "requestMsgId": "a0cd98b4-55f6-4e7f-bc65-509296d7f6a2",
        "showInput": true,
        "trusted": true
      },
      "source": [
        "final_hiddens = {'h1':[], 'h2':[], 'h2p':[]}\n",
        "ncorrect = 0\n",
        "\n",
        "for x, x_alt, y in tqdm(zip(X_data, X_alt_data, y_data), total=len(y_data)):\n",
        "    if len(x) < 2:\n",
        "        continue\n",
        "    if y[0] == y[1]:\n",
        "        continue # removing the same APIs to reduce noise\n",
        "\n",
        "    hiddens, idx = query_model(x, y)\n",
        "    hiddens_alt, idx_alt = query_model(x_alt, y)\n",
        "\n",
        "    if idx[:2] != y or idx_alt[1] != y[1]:\n",
        "        continue\n",
        "        \n",
        "#     ncorrect += 1\n",
        "    final_hiddens['h1'].append([hiddens[0], y[0]])\n",
        "    final_hiddens['h2'].append([hiddens[1], y[1]])\n",
        "    final_hiddens['h2p'].append([hiddens_alt[1], y[1]])\n",
        "    \n",
        "print(ncorrect / len(y_data))"
      ],
      "execution_count": null,
      "outputs": []
    },
    {
      "cell_type": "markdown",
      "metadata": {
        "originalKey": "25c504d8-3965-4e05-8a59-6a14c52eb59a"
      },
      "source": [
        "### TSNE "
      ]
    },
    {
      "cell_type": "code",
      "metadata": {
        "trusted": false,
        "originalKey": "e276a53d-1048-4b08-8525-a304362f193c"
      },
      "source": [
        "# plot one hidden TSNE in one plot\n",
        "name = 'h2'\n",
        "values, labels = zip(*final_hiddens[name])\n",
        "labels = [indx2api[i] for i in labels]\n",
        "values = [t.tolist() for t in values]\n",
        "\n",
        "tsne = TSNE(n_components=2, verbose=1, perplexity=30, n_iter=300)\n",
        "df = pd.DataFrame()\n",
        "result = tsne.fit_transform(values)\n",
        "df['x'] = result[:, 0]\n",
        "df['y'] = result[:, 1]\n",
        "df['labels'] = labels\n",
        "\n",
        "plt.figure(figsize=(16,10))\n",
        "sns.scatterplot(\n",
        "    x=f'x', y=f'y',\n",
        "    hue='labels',\n",
        "    data=df,\n",
        "    legend=\"full\",\n",
        "    alpha=0.3\n",
        ")"
      ],
      "execution_count": null,
      "outputs": []
    },
    {
      "cell_type": "code",
      "metadata": {
        "trusted": true,
        "originalKey": "bc661ab1-c2c4-4cc3-8060-df1e02c8c6eb"
      },
      "source": [
        "# combine them in one chart\n",
        "tsne = TSNE(n_components=2, verbose=1, perplexity=30, n_iter=300)\n",
        "df = pd.DataFrame()\n",
        "names_combined = []\n",
        "labels_combined = []\n",
        "values_combined = []\n",
        "\n",
        "# choose 500 randomly\n",
        "n = 500\n",
        "idx_by_name = defaultdict(list)\n",
        "for i, (_, label_i) in enumerate(final_hiddens['h2']):\n",
        "    idx_by_name[indx2api[label_i]].append(i)\n",
        "idx_to_choose = []\n",
        "for name, idxes in idx_by_name.items():\n",
        "    idx_to_choose += random.sample(idxes, min(len(idxes), n))\n",
        "\n",
        "# for name in final_hiddens:\n",
        "for name in ['h2', 'h2p']:\n",
        "    lst = [final_hiddens[name][i] for i in idx_to_choose]\n",
        "    values, labels = zip(*lst)\n",
        "    names_combined += [name] * len(labels)\n",
        "    labels_combined += [indx2api[i] for i in labels]\n",
        "    values_combined += [t.tolist() for t in values]"
      ],
      "execution_count": null,
      "outputs": []
    },
    {
      "cell_type": "code",
      "metadata": {
        "trusted": true,
        "originalKey": "9d3d5200-e1ec-4b2a-9137-5d2882ab18f5"
      },
      "source": [
        "list(api2indx.keys())"
      ],
      "execution_count": null,
      "outputs": []
    },
    {
      "cell_type": "code",
      "metadata": {
        "trusted": true,
        "originalKey": "e74ea9f0-e970-49e4-8f36-ffc89c6908ff"
      },
      "source": [
        ""
      ],
      "execution_count": null,
      "outputs": []
    },
    {
      "cell_type": "code",
      "metadata": {
        "trusted": true,
        "originalKey": "96fa9cc3-4b21-46c4-ad39-641a9dc1478c"
      },
      "source": [
        "# result = tsne.fit_transform(values_combined)\n",
        "df['x'] = result[:, 0]\n",
        "df['y'] = result[:, 1]\n",
        "df['labels'] = labels_combined\n",
        "df['hiddens'] = names_combined\n",
        "df = df.set_index(['labels', 'hiddens'])\n",
        "\n",
        "### plot ###\n",
        "palette = sns.color_palette('hls', len(api2indx))\n",
        "plt.figure(figsize=(16,10))\n",
        "sns.scatterplot(\n",
        "    x=f'x', y=f'y',\n",
        "    hue='labels',\n",
        "    hue_order=list(api2indx.keys()),\n",
        "    palette=palette,\n",
        "    data=df.xs('h2', level=1),\n",
        "    legend=\"full\",\n",
        "    marker='x'\n",
        ")\n",
        "\n",
        "sns.scatterplot(\n",
        "    x=f'x', y=f'y',\n",
        "    hue='labels',\n",
        "    hue_order=list(api2indx.keys()),\n",
        "    palette=palette,\n",
        "    data=df.xs('h2p', level=1),\n",
        "    legend=None,\n",
        "    marker='.'\n",
        ")\n",
        "\n",
        "\n",
        "### plot some close pairs ###\n",
        "half = int(len(names_combined) / 2)\n",
        "data_plot = []\n",
        "labels_collected = set()\n",
        "for i in range(half):\n",
        "    label = labels_combined[i]\n",
        "    if label in labels_collected:\n",
        "        continue\n",
        "    x, y = df.iloc[i].values\n",
        "    xp, yp = df.iloc[i + half].values\n",
        "    if 0.2 < math.sqrt((xp - x) ** 2 + (yp - y) ** 2) < 1:\n",
        "        data_plot.append([label, (x, y), (xp, yp)])\n",
        "        labels_collected.add(label)\n",
        "\n",
        "for label, (x,  y), (xp, yp) in data_plot:\n",
        "#     color = np.random.rand(1, 3)\n",
        "#     color = np.array([list(palette)[api2indx[label]]])\n",
        "    color = 'black'\n",
        "    plt.scatter(x, y, c=color)\n",
        "    plt.gca().text(x, y, f'{label}', fontsize=12)\n",
        "\n",
        "    plt.scatter(xp, yp, c=color)\n",
        "#     plt.gca().text(xp, yp)"
      ],
      "execution_count": null,
      "outputs": []
    },
    {
      "cell_type": "code",
      "metadata": {
        "trusted": false,
        "originalKey": "3e65fb42-794a-401a-9ffb-a8e611186679"
      },
      "source": [
        "# show for individual APIs\n",
        "tsne = TSNE(n_components=2, verbose=1, perplexity=30, n_iter=300)\n",
        "df = pd.DataFrame()\n",
        "names_combined = []\n",
        "labels_combined = []\n",
        "values_combined = []\n",
        "for name in final_hiddens:\n",
        "    values, labels = zip(*final_hiddens[name])\n",
        "    names_combined += [name] * len(labels)\n",
        "    labels_combined += [indx2api[i] for i in labels]\n",
        "    values_combined += [t.tolist() for t in values]\n",
        "    \n",
        "    \n",
        "# choose 500 randomly\n",
        "n = 300\n",
        "idx_by_name = defaultdict(list)\n",
        "for i, label in enumerate(labels_combined):\n",
        "    idx_by_name[label].append(i)\n",
        "idx_to_choose = []\n",
        "for name, idxes in idx_by_name.items():\n",
        "    idx_to_choose += random.sample(idxes, min(len(idxes), n))\n",
        "    \n",
        "names_combined = [names_combined[i] for i in idx_to_choose]\n",
        "labels_combined = [labels_combined[i] for i in idx_to_choose]\n",
        "values_combined = [values_combined[i] for i in idx_to_choose]\n",
        "print(len(values_combined))"
      ],
      "execution_count": null,
      "outputs": []
    },
    {
      "cell_type": "code",
      "metadata": {
        "trusted": false,
        "originalKey": "9d54fc81-0dfe-4db9-97df-82674710cf88"
      },
      "source": [
        "result = tsne.fit_transform(values_combined)\n",
        "df['x'] = result[:, 0]\n",
        "df['y'] = result[:, 1]\n",
        "df['labels'] = labels_combined\n",
        "df['hiddens'] = names_combined\n",
        "df = df.set_index(['labels', 'hiddens'])\n",
        "  \n",
        "fig, axes = plt.subplots(4, 4, figsize=(16, 12))\n",
        "for i, api in enumerate(list(api2indx)):\n",
        "    a, b = int(i / 4), i % 4\n",
        "    try:\n",
        "        sns.scatterplot(\n",
        "            ax=axes[a, b],\n",
        "            x='x', y='y',\n",
        "            hue='hiddens',\n",
        "            hue_order=final_hiddens.keys(),\n",
        "            data=df.xs(api).reset_index(),\n",
        "            legend='full' if i == 0 else None,\n",
        "        )\n",
        "        if i == 0:\n",
        "            axes[a, b].legend(bbox_to_anchor=(-0.5, 1), fontsize='large')\n",
        "    except:\n",
        "        continue\n",
        "    axes[a, b].set_title(api)"
      ],
      "execution_count": null,
      "outputs": []
    },
    {
      "cell_type": "code",
      "metadata": {
        "trusted": false,
        "originalKey": "211dd009-9a13-4fef-b751-625aa3d0b22c"
      },
      "source": [
        ""
      ],
      "execution_count": null,
      "outputs": []
    },
    {
      "cell_type": "code",
      "metadata": {
        "trusted": false,
        "originalKey": "462d60f7-555f-4553-9254-429806cab8e7"
      },
      "source": [
        ""
      ],
      "execution_count": null,
      "outputs": []
    },
    {
      "cell_type": "code",
      "metadata": {
        "trusted": false,
        "originalKey": "3b7b6991-381f-416a-a017-7881ec1c5bb3"
      },
      "source": [
        ""
      ],
      "execution_count": null,
      "outputs": []
    },
    {
      "cell_type": "code",
      "metadata": {
        "trusted": false,
        "originalKey": "d23933e8-62d3-471e-88ba-a46be32a28cb"
      },
      "source": [
        ""
      ],
      "execution_count": null,
      "outputs": []
    },
    {
      "cell_type": "code",
      "metadata": {
        "trusted": false,
        "originalKey": "38326641-3569-43d1-bde6-031e0d48eb67"
      },
      "source": [
        ""
      ],
      "execution_count": null,
      "outputs": []
    }
  ]
}
