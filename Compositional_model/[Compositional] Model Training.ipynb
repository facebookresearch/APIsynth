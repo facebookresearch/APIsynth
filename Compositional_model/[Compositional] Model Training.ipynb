{
  "metadata": {
    "bento_stylesheets": {
      "bento/extensions/flow/main.css": true,
      "bento/extensions/kernel_selector/main.css": true,
      "bento/extensions/kernel_ui/main.css": true,
      "bento/extensions/new_kernel/main.css": true,
      "bento/extensions/system_usage/main.css": true,
      "bento/extensions/theme/main.css": true
    },
    "kernelspec": {
      "display_name": "pytorch",
      "language": "python",
      "name": "bento_kernel_pytorch",
      "metadata": {
        "kernel_name": "bento_kernel_pytorch",
        "nightly_builds": true,
        "fbpkg_supported": true,
        "is_prebuilt": true
      }
    },
    "language_info": {
      "codemirror_mode": {
        "name": "ipython",
        "version": 3
      },
      "file_extension": ".py",
      "mimetype": "text/x-python",
      "name": "python",
      "nbconvert_exporter": "python",
      "pygments_lexer": "ipython3"
    },
    "captumWidgetMessage": {},
    "last_msg_id": "9b78c9e7-f35606e048f7445c72adfdf8_291",
    "last_server_session_id": "ee3073e4-316f-4928-9476-a6e9461f2eb0",
    "last_kernel_id": "cf85ec80-4435-4b05-97d5-2a2681b6a253",
    "last_base_url": "https://devvm3630.vll0.facebook.com:8090/",
    "outputWidgetContext": {}
  },
  "nbformat": 4,
  "nbformat_minor": 2,
  "cells": [
    {
      "cell_type": "code",
      "metadata": {
        "collapsed": false,
        "originalKey": "bdf27dd5-6c87-4b9e-9278-6dcbba1d68a9",
        "code_folding": [],
        "hidden_ranges": [],
        "requestMsgId": "bdf27dd5-6c87-4b9e-9278-6dcbba1d68a9",
        "executionStartTime": 1632885270574,
        "executionStopTime": 1632885271287
      },
      "source": [
        "import random\n",
        "import numpy as np\n",
        "import torch as T\n",
        "import torch\n",
        "# device = T.device(\"cuda\") \n",
        "device = torch.device(\"cpu\") \n",
        "\n",
        "Path = 'gen1_33'\n",
        "EMBEDDING_SIZE = 150\n",
        "SHAPE_EMBEDDING_SIZE = 6"
      ],
      "execution_count": null,
      "outputs": []
    },
    {
      "cell_type": "code",
      "metadata": {
        "originalKey": "01e218e2-db3d-4fb7-828b-8fa6f80e6489",
        "showInput": true,
        "customInput": null,
        "code_folding": [],
        "hidden_ranges": [],
        "collapsed": false,
        "requestMsgId": "01e218e2-db3d-4fb7-828b-8fa6f80e6489",
        "executionStartTime": 1632885273121,
        "executionStopTime": 1632885273126
      },
      "source": [
        "class FinalEmbedding:\n",
        "    def __init__(self,x,y):\n",
        "        self.x_data = x\n",
        "        self.y_data = y\n",
        "      \n",
        "    def __len__(self):\n",
        "        return len(self.x_data)\n",
        "\n",
        "    def __getitem__(self, idx):\n",
        "        preds = self.x_data[idx]\n",
        "        trgts = self.y_data[idx] \n",
        "        sample = { \n",
        "        'predictors' : preds,\n",
        "        'targets' : trgts\n",
        "        }\n",
        "        return sample"
      ],
      "execution_count": null,
      "outputs": []
    },
    {
      "cell_type": "code",
      "metadata": {
        "originalKey": "68d3244e-913b-4c90-a4e0-e50d471e7ff2",
        "showInput": true,
        "customInput": null,
        "code_folding": [],
        "hidden_ranges": [],
        "collapsed": false,
        "requestMsgId": "68d3244e-913b-4c90-a4e0-e50d471e7ff2",
        "executionStartTime": 1632885273866,
        "executionStopTime": 1632885273930
      },
      "source": [
        "api2indx = torch.load(Path + '/api2indx.pt')\n",
        "api2indx"
      ],
      "execution_count": null,
      "outputs": []
    },
    {
      "cell_type": "code",
      "metadata": {
        "originalKey": "8c1ee443-4005-4243-9c39-52d7423f2e44",
        "showInput": true,
        "customInput": null,
        "code_folding": [],
        "hidden_ranges": [],
        "collapsed": false,
        "requestMsgId": "8c1ee443-4005-4243-9c39-52d7423f2e44",
        "executionStartTime": 1632885282569,
        "executionStopTime": 1632885282574
      },
      "source": [
        "def process_dataX(io_seq_tensors):\n",
        "    io_seq = []\n",
        "    for tensor_list in io_seq_tensors:        \n",
        "        n0 = tensor_list[0]\n",
        "        if(len(tensor_list) == 1):\n",
        "            n1 = torch.zeros(n0.shape)\n",
        "            n2 = torch.zeros(n0.shape)   \n",
        "        elif(len(tensor_list) == 2):\n",
        "            n1 = tensor_list[1]\n",
        "            n2 = torch.zeros(n0.shape)\n",
        "        elif(len(tensor_list) == 3):\n",
        "            n1 = tensor_list[1]\n",
        "            n2 = tensor_list[2]\n",
        "        new_list = torch.stack((n0, n1, n2))\n",
        "        io_seq.append(new_list)\n",
        "    return(torch.stack(io_seq))"
      ],
      "execution_count": null,
      "outputs": []
    },
    {
      "cell_type": "code",
      "metadata": {
        "originalKey": "7716f503-76cb-450f-ad09-23e61fc20a91",
        "showInput": true,
        "customInput": null,
        "code_folding": [],
        "hidden_ranges": [],
        "collapsed": false,
        "requestMsgId": "7716f503-76cb-450f-ad09-23e61fc20a91",
        "executionStartTime": 1632885283217,
        "executionStopTime": 1632885283228
      },
      "source": [
        "indx2api = {}\n",
        "EOS = '<eol>'\n",
        "\n",
        "def process_dataY(api_seq_list):\n",
        "    global indx2api\n",
        "    global api2indx\n",
        "    ''' Add <eol> to the dictionary '''\n",
        "    indx2api = {v: k for k, v in api2indx.items()}\n",
        "    if api2indx.get(EOS, -1) == -1:\n",
        "        max_key = max(indx2api.keys())\n",
        "        print(max_key)\n",
        "        indx2api[max_key+1] = EOS\n",
        "        api2indx[EOS] = max_key+1\n",
        "    eos = api2indx[EOS]\n",
        "    api_tensors = []\n",
        "    for api_seq in api_seq_list:\n",
        "        api0 = api_seq[0]\n",
        "        if len(api_seq) == 1:\n",
        "            api1 = eos\n",
        "            api2 = eos\n",
        "        elif len(api_seq) == 2:\n",
        "            api1 = api_seq[1]\n",
        "            api2 = eos\n",
        "        elif len(api_seq) == 3:\n",
        "            api1 = api_seq[1]\n",
        "            api2 = api_seq[2]\n",
        "        else:\n",
        "            print('!!! Not supposed to be here')\n",
        "        t = torch.tensor([api0, api1, api2])\n",
        "        api_tensors.append(t)\n",
        "    return(torch.stack(api_tensors))"
      ],
      "execution_count": null,
      "outputs": []
    },
    {
      "cell_type": "code",
      "metadata": {
        "originalKey": "179e2e69-a761-4706-9cd6-f3f716722ca0",
        "showInput": true,
        "customInput": null,
        "code_folding": [],
        "hidden_ranges": [],
        "collapsed": false,
        "requestMsgId": "179e2e69-a761-4706-9cd6-f3f716722ca0",
        "executionStartTime": 1632885286539,
        "executionStopTime": 1632885286548
      },
      "source": [
        "def shuffle_dataset(X_dataset, Y_dataset):\n",
        "\n",
        "    print('len orig_dataset', len(X_dataset),  len(Y_dataset))\n",
        "  \n",
        "    length = len(X_dataset)\n",
        "\n",
        "    idx = list(range(length))  # indices to all elements\n",
        "    random.shuffle(idx)  # in-place shuffle the indices to facilitate random splitting\n",
        "    data_idx = idx[:]\n",
        "\n",
        "    x = []\n",
        "    y = []\n",
        "\n",
        "    x = [X_dataset[i] for i in data_idx]\n",
        "    y = [Y_dataset[i] for i in data_idx]\n",
        "\n",
        "    print(len(x), len(y))\n",
        "    return(x,y)"
      ],
      "execution_count": null,
      "outputs": []
    },
    {
      "cell_type": "code",
      "metadata": {
        "originalKey": "351248ea-4ce3-4fde-8e85-10a95d0d1916",
        "showInput": true,
        "customInput": null,
        "code_folding": [],
        "hidden_ranges": [],
        "collapsed": false,
        "requestMsgId": "351248ea-4ce3-4fde-8e85-10a95d0d1916",
        "executionStartTime": 1632885322623,
        "executionStopTime": 1632885556992
      },
      "source": [
        "def dump_final_embedding():\n",
        "\n",
        "    bat_size = 64\n",
        "\n",
        "    for i in range(4,9):\n",
        "        print(i)\n",
        "        embed_file = Path + '/training_embeddings/' + str(i*10000) + '_training_embedding.pt'  \n",
        "            \n",
        "        print(embed_file)\n",
        "        x, y = torch.load(embed_file)\n",
        "        x, y = shuffle_dataset(x,y)\n",
        "        pretrain_set_x = process_dataX(x)\n",
        "        pretrain_set_y = process_dataY(y)\n",
        "        print(\"Creating Final Datasets...\")\n",
        "        del x\n",
        "        del y\n",
        "    \n",
        "        pretrain_ds = FinalEmbedding(pretrain_set_x, pretrain_set_y)\n",
        "        pretrain_ldr = T.utils.data.DataLoader(pretrain_ds,batch_size=bat_size, shuffle=True)\n",
        "\n",
        "        dest_file = Path + '/train_ldr_' + str(i) + '.pt'\n",
        "\n",
        "        torch.save(pretrain_ldr, dest_file)\n",
        "        print('saving in ', dest_file)\n",
        "        del pretrain_set_x\n",
        "        del pretrain_set_y\n",
        "        del pretrain_ds\n",
        "        del pretrain_ldr\n",
        "        \n",
        "dump_final_embedding()"
      ],
      "execution_count": null,
      "outputs": []
    },
    {
      "cell_type": "code",
      "metadata": {
        "originalKey": "1f6c6eab-29fc-4a95-9f00-086b10d9e17f",
        "showInput": true,
        "customInput": null,
        "code_folding": [],
        "hidden_ranges": [],
        "collapsed": false,
        "requestMsgId": "1f6c6eab-29fc-4a95-9f00-086b10d9e17f",
        "executionStartTime": 1632885947767,
        "executionStopTime": 1632885947819
      },
      "source": [
        "torch.save(api2indx, Path + '/api2indx.pt')"
      ],
      "execution_count": null,
      "outputs": []
    },
    {
      "cell_type": "code",
      "metadata": {
        "originalKey": "76e89e84-50da-43e5-9d14-ccbe2d9207ac",
        "showInput": true,
        "customInput": null,
        "code_folding": [],
        "hidden_ranges": [],
        "collapsed": false,
        "requestMsgId": "76e89e84-50da-43e5-9d14-ccbe2d9207ac",
        "executionStartTime": 1632885923439,
        "executionStopTime": 1632885923574
      },
      "source": [
        "api2indx"
      ],
      "execution_count": null,
      "outputs": []
    },
    {
      "cell_type": "code",
      "metadata": {
        "originalKey": "8c1e0c6f-6b2c-499e-a4f0-c71942a73837",
        "showInput": true,
        "customInput": null,
        "collapsed": false,
        "requestMsgId": "8c1e0c6f-6b2c-499e-a4f0-c71942a73837",
        "executionStartTime": 1632885953140,
        "executionStopTime": 1632885953198
      },
      "source": [
        "import torch\n",
        "from torch import nn\n",
        "\n",
        "import numpy as np"
      ],
      "execution_count": null,
      "outputs": []
    },
    {
      "cell_type": "code",
      "metadata": {
        "originalKey": "b1317baf-81b0-4fce-a132-889c2e28cf3e",
        "showInput": true,
        "customInput": null,
        "collapsed": false,
        "requestMsgId": "b1317baf-81b0-4fce-a132-889c2e28cf3e",
        "code_folding": [],
        "hidden_ranges": [],
        "executionStartTime": 1632885953997,
        "executionStopTime": 1632885954078
      },
      "source": [
        "class RNNModel(nn.Module):\n",
        "    def __init__(self, input_size, output_size, hidden_dim, n_layers):\n",
        "        super(RNNModel, self).__init__()\n",
        "\n",
        "        # Defining some parameters\n",
        "        self.hidden_dim = hidden_dim\n",
        "        self.n_layers = n_layers\n",
        "\n",
        "        #Defining the layers\n",
        "        # RNN Layer\n",
        "        self.rnn = nn.RNN(input_size, hidden_dim, n_layers, batch_first=True, bidirectional=True)   \n",
        "        \n",
        "        # Fully connected layer\n",
        "        self.fc = nn.Linear(hidden_dim*2, output_size)\n",
        "        \n",
        "    \n",
        "    def forward(self, x):\n",
        "        batch_size = x.size(0)\n",
        "\n",
        "        #Initializing hidden state for first input using method defined below\n",
        "        hidden = self.init_hidden(batch_size)\n",
        "        \n",
        "\n",
        "        # Passing in the input and hidden state into the model and obtaining outputs\n",
        "        out, hidden = self.rnn(x, hidden)\n",
        "        \n",
        "        # Reshaping the outputs such that it can be fit into the fully connected layer\n",
        "        out1 = out.contiguous().view(-1, self.hidden_dim*2)\n",
        "        out1 = self.fc(out1)\n",
        "        \n",
        "        return out1, hidden, out\n",
        "    \n",
        "    def init_hidden(self, batch_size):\n",
        "        # This method generates the first hidden state of zeros which we'll use in the forward pass\n",
        "        hidden = torch.zeros(self.n_layers*2, batch_size, self.hidden_dim).to(device)\n",
        "         # We'll send the tensor holding the hidden state to the device we specified earlier as well\n",
        "        return hidden"
      ],
      "execution_count": null,
      "outputs": []
    },
    {
      "cell_type": "code",
      "metadata": {
        "originalKey": "0d7a8529-2f2a-4150-9960-9d1939bff619",
        "showInput": true,
        "customInput": null,
        "code_folding": [],
        "hidden_ranges": [],
        "collapsed": false,
        "requestMsgId": "0d7a8529-2f2a-4150-9960-9d1939bff619",
        "executionStartTime": 1632885956367,
        "executionStopTime": 1632885956455
      },
      "source": [
        "class FFNet(T.nn.Module):\n",
        "  def __init__(self):\n",
        "    super(FFNet, self).__init__()\n",
        "\n",
        "    self.hid1 = T.nn.Linear(4*(EMBEDDING_SIZE+SHAPE_EMBEDDING_SIZE+1+2), 500)\n",
        "    self.hid2 = T.nn.Linear(500, 250)\n",
        "    self.hid3 = T.nn.Linear(250, 100)\n",
        "    self.oupt = T.nn.Linear(100, len(api2indx))\n",
        "\n",
        "    T.nn.init.xavier_uniform_(self.hid1.weight)\n",
        "    T.nn.init.zeros_(self.hid1.bias)\n",
        "    T.nn.init.xavier_uniform_(self.hid2.weight)\n",
        "    T.nn.init.zeros_(self.hid2.bias)\n",
        "    T.nn.init.xavier_uniform_(self.oupt.weight)\n",
        "    T.nn.init.zeros_(self.oupt.bias)\n",
        "\n",
        "    T.nn.Dropout(p=0.2)\n",
        "\n",
        "\n",
        "  def forward(self, x):\n",
        "    z1 = T.tanh(self.hid1(x))\n",
        "    z2 = T.tanh(self.hid2(z1))\n",
        "    z3 = T.tanh(self.hid3(z2))\n",
        "    z = self.oupt(z3)  # no softmax: CrossEntropyLoss() \n",
        "    return (z, z3, z2, z1)\n",
        ""
      ],
      "execution_count": null,
      "outputs": []
    },
    {
      "cell_type": "code",
      "metadata": {
        "originalKey": "80c4e716-2dce-4394-b174-4354019e0585",
        "showInput": true,
        "customInput": null,
        "collapsed": false,
        "code_folding": [],
        "hidden_ranges": [],
        "requestMsgId": "80c4e716-2dce-4394-b174-4354019e0585",
        "executionStartTime": 1632885959157,
        "executionStopTime": 1632885959284
      },
      "source": [
        "# 0. get started\n",
        "print(\"\\nBegin predict  \\n\")\n",
        "np.random.seed(1)\n",
        "T.manual_seed(1)"
      ],
      "execution_count": null,
      "outputs": []
    },
    {
      "cell_type": "code",
      "metadata": {
        "originalKey": "60da8b47-c2f1-4509-a58b-e9b1b3d36fc7",
        "showInput": true,
        "customInput": null,
        "code_folding": [],
        "hidden_ranges": [],
        "collapsed": false,
        "requestMsgId": "60da8b47-c2f1-4509-a58b-e9b1b3d36fc7",
        "executionStartTime": 1632885961701,
        "executionStopTime": 1632885961773
      },
      "source": [
        "# Instantiate the model with hyperparameters\n",
        "rnn_model = RNNModel(input_size=100, output_size=len(api2indx), hidden_dim=128, n_layers=2)\n",
        "# We'll also set the model to the device that we defined earlier (default is CPU)\n",
        "rnn_model = rnn_model.to(device)\n",
        "# 2. create network\n",
        "net = FFNet().to(device)"
      ],
      "execution_count": null,
      "outputs": []
    },
    {
      "cell_type": "code",
      "metadata": {
        "originalKey": "80153107-6b30-4a12-8d8c-f30e7a58547f",
        "showInput": true,
        "customInput": null,
        "code_folding": [],
        "hidden_ranges": [],
        "collapsed": false,
        "requestMsgId": "80153107-6b30-4a12-8d8c-f30e7a58547f",
        "executionStartTime": 1632885997077,
        "executionStopTime": 1632885997165
      },
      "source": [
        "def get_stored_dataset():\n",
        "\n",
        "    ldrs = []\n",
        "\n",
        "    for i in range(6,9):\n",
        "        ldr_file = Path + '/train_ldr_' + str(i) + '.pt'\n",
        "        print('ldr_file: ', ldr_file)\n",
        "        ldrs.append(ldr_file)\n",
        "    return(ldrs)\n",
        "\n",
        "ldrs = get_stored_dataset()\n",
        "print(ldrs)\n",
        "    "
      ],
      "execution_count": null,
      "outputs": []
    },
    {
      "cell_type": "code",
      "metadata": {
        "originalKey": "9b4401c3-aebe-4542-ab4e-8d1d53c5e196",
        "showInput": true,
        "customInput": null,
        "code_folding": [],
        "hidden_ranges": [],
        "collapsed": false,
        "requestMsgId": "9b4401c3-aebe-4542-ab4e-8d1d53c5e196",
        "executionStartTime": 1632886004798,
        "executionStopTime": 1632886004860
      },
      "source": [
        "# Define hyperparameters\n",
        "n_epochs = 20\n",
        "lr=0.0001\n",
        "bat_size = 64\n",
        "\n",
        "# Define Loss, Optimizer\n",
        "criterion2 = nn.CrossEntropyLoss()\n",
        "optimizer2 = torch.optim.Adam(rnn_model.parameters(), lr=lr)\n",
        "\n",
        "# 3. train model\n",
        "max_epochs = n_epochs\n",
        "ep_log_interval = 10\n",
        "optimizer1 = T.optim.Adam(net.parameters(), lr=lr)"
      ],
      "execution_count": null,
      "outputs": []
    },
    {
      "cell_type": "code",
      "metadata": {
        "originalKey": "f29d2891-9396-4d95-b891-5caa836bb872",
        "showInput": true,
        "customInput": null,
        "collapsed": false,
        "requestMsgId": "f29d2891-9396-4d95-b891-5caa836bb872",
        "executionStartTime": 1632886030410,
        "executionStopTime": 1632894974549
      },
      "source": [
        "import torch.nn as nn\n",
        "\n",
        "print(\"\\nbat_size = %3d \" % bat_size)\n",
        "print(\"loss = \" + str(criterion2))\n",
        "print(\"optimizer = Adam\")\n",
        "print(\"max_epochs = %3d \" % max_epochs)\n",
        "print(\"lrn_rate = %0.4f \" % lr)\n",
        "count = 0 \n",
        "print(\"\\nStarting train with saved checkpoints\")\n",
        "net.train()\n",
        "rnn_model.train()\n",
        "\n",
        "for epoch in range(0, max_epochs+1):\n",
        "  epoch_loss = 0  # for one full epoch\n",
        "  for index, ldr_path  in enumerate(ldrs):\n",
        "    pretrain_ldr = torch.load(ldr_path)\n",
        "    for (batch_idx, batch) in enumerate(pretrain_ldr):\n",
        "      X = batch['predictors']  \n",
        "      Y = batch['targets']   \n",
        "\n",
        "      optimizer1.zero_grad()\n",
        "      optimizer2.zero_grad()\n",
        "      oupt, z3, z2, z1 = net(X.to(device))\n",
        "\n",
        "      output, hidden, _ = rnn_model(z3) ##RNN\n",
        "      \n",
        "      output = output.to(device)\n",
        "      target_seq = Y.to(device)\n",
        "    \n",
        "      loss = criterion2(output, target_seq.view(-1).long())\n",
        "      loss.backward() # Does backpropagation and calculates gradients\n",
        "\n",
        "      optimizer1.step()\n",
        "      optimizer2.step() \n",
        "    \n",
        "    del pretrain_ldr\n",
        "  \n",
        "  if epoch%2 == 0:\n",
        "      print('Epoch: {}/{}.............'.format(epoch, n_epochs), end=' ')\n",
        "      print(\"Loss: {:.4f}\".format(loss.item()))\n",
        "      torch.save(net, Path + '/' + str(epoch) + '_train_net_model.pt')\n",
        "      torch.save(rnn_model, Path + '/' + str(epoch) + '_train_rnn_model.pt')"
      ],
      "execution_count": null,
      "outputs": []
    },
    {
      "cell_type": "code",
      "metadata": {
        "originalKey": "d4ae6267-b24e-4411-a4a3-d06d7e03146e",
        "showInput": true,
        "customInput": null
      },
      "source": [
        ""
      ],
      "execution_count": null,
      "outputs": []
    }
  ]
}
